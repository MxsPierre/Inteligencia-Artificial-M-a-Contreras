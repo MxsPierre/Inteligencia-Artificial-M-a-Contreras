{
  "nbformat": 4,
  "nbformat_minor": 0,
  "metadata": {
    "colab": {
      "provenance": [],
      "authorship_tag": "ABX9TyOO6noY66F3QUN9H4kUcRLh",
      "include_colab_link": true
    },
    "kernelspec": {
      "name": "python3",
      "display_name": "Python 3"
    },
    "language_info": {
      "name": "python"
    }
  },
  "cells": [
    {
      "cell_type": "markdown",
      "metadata": {
        "id": "view-in-github",
        "colab_type": "text"
      },
      "source": [
        "<a href=\"https://colab.research.google.com/github/MxsPierre/Inteligencia-Artificial-M-a-Contreras/blob/main/EjercicioPhyton_1.ipynb\" target=\"_parent\"><img src=\"https://colab.research.google.com/assets/colab-badge.svg\" alt=\"Open In Colab\"/></a>"
      ]
    },
    {
      "cell_type": "code",
      "source": [
        "#Mia Sofia Guadalupe Contreras Castillo\n",
        "#2006081\n",
        "#N4"
      ],
      "metadata": {
        "id": "wpO2bFD4QYeS"
      },
      "execution_count": null,
      "outputs": []
    },
    {
      "cell_type": "code",
      "execution_count": null,
      "metadata": {
        "colab": {
          "base_uri": "https://localhost:8080/"
        },
        "id": "AZ1ZSVgFeObT",
        "outputId": "52d19b8c-6708-4271-a7d7-ae005e2df0f0"
      },
      "outputs": [
        {
          "output_type": "stream",
          "name": "stdout",
          "text": [
            "Por favor, ingresa tu nombre: Alex\n",
            "¡Hola, Alex! I was enchated to meet you-Taylor Swift\n"
          ]
        }
      ],
      "source": [
        "#Desarrolla un algoritmo que le pida al usuario por su nombre y que lo salude\n",
        "#con su nombre, excepto si se llama “Ana”, “Juan”, y “Pedro”.\n",
        "# Ingresar nombre\n",
        "nombre = input(\"Por favor, ingresa tu nombre: \")\n",
        "\n",
        "# Condiciones\n",
        "if nombre.lower() == \"ana\" or nombre.lower() == \"juan\" or nombre.lower() == \"pedro\":\n",
        "    print(\"Tu que , ni te topo, digo ERROR\")\n",
        "else:\n",
        "    print(\"¡Hola, \" + nombre + \"! I was enchated to meet you-Taylor Swift\")"
      ]
    },
    {
      "cell_type": "code",
      "source": [
        "#Desarrolla un algoritmo que por medio de una función, le pida al usuario una lista de\n",
        "#N elementos y como resultado invierta el sentido de la lista.\n",
        "def invertir_lista():\n",
        "\n",
        "    n = int(input(\"Cuantos son?: \"))\n",
        "    lista = []\n",
        "    for i in range(n):\n",
        "        elemento = input(f\"Ingrese el elemento {i + 1}: \")\n",
        "        lista.append(elemento)\n",
        "    lista_invertida = list(reversed(lista))\n",
        "    print(\"\\nLista original:\", lista)\n",
        "    print(\"Lista invertida:\", lista_invertida)\n",
        "invertir_lista()"
      ],
      "metadata": {
        "colab": {
          "base_uri": "https://localhost:8080/"
        },
        "id": "fRHatwFEfXTO",
        "outputId": "1000bb97-9ae0-4c84-cd5a-c317ce23c1a4"
      },
      "execution_count": null,
      "outputs": [
        {
          "output_type": "stream",
          "name": "stdout",
          "text": [
            "Cuantos son?: 9\n",
            "Ingrese el elemento 1: 987\n",
            "Ingrese el elemento 2: 24\n",
            "Ingrese el elemento 3: 46\n",
            "Ingrese el elemento 4: 23\n",
            "Ingrese el elemento 5: 667\n",
            "Ingrese el elemento 6: 2335\n",
            "Ingrese el elemento 7: shdhc}\n",
            "Ingrese el elemento 8: ahsc\n",
            "Ingrese el elemento 9: rd4d\n",
            "\n",
            "Lista original: ['987', '24', '46', '23', '667', '2335', 'shdhc}', 'ahsc', 'rd4d']\n",
            "Lista invertida: ['rd4d', 'ahsc', 'shdhc}', '2335', '667', '23', '46', '24', '987']\n"
          ]
        }
      ]
    },
    {
      "cell_type": "code",
      "source": [
        "#Desarrolla un algoritmo que le pregunte al usuario cuántos números\n",
        "#de la serie de Fibonacci quiere generar y que al final los imprima.\n",
        "def generar_fibonacci(n):\n",
        "    fibonacci_series = [0, 1]\n",
        "    for i in range(2, n):\n",
        "        fibonacci_series.append(fibonacci_series[i-1] + fibonacci_series[i-2])\n",
        "    return fibonacci_series\n",
        "def main():\n",
        "    n = int(input(\"Ingrese cuántos números de la serie de Fibonacci desea generar: \"))\n",
        "    fibonacci_resultado = generar_fibonacci(n)\n",
        "    print(\"Serie de Fibonacci con {} números:\".format(n))\n",
        "    print(fibonacci_resultado)\n",
        "main()"
      ],
      "metadata": {
        "colab": {
          "base_uri": "https://localhost:8080/"
        },
        "id": "b2YN-FMKgvdK",
        "outputId": "b8a4b54b-a3d8-4ebc-d365-b5e5d9d61f9c"
      },
      "execution_count": null,
      "outputs": [
        {
          "output_type": "stream",
          "name": "stdout",
          "text": [
            "Ingrese cuántos números de la serie de Fibonacci desea generar: 15\n",
            "Serie de Fibonacci con 15 números:\n",
            "[0, 1, 1, 2, 3, 5, 8, 13, 21, 34, 55, 89, 144, 233, 377]\n"
          ]
        }
      ]
    },
    {
      "cell_type": "code",
      "source": [
        "#Juego de adivinar el número: Crea un programa que genere un número\n",
        "#aleatorio entre 1 y 100, y luego le pida al usuario que adivine el número.\n",
        "#El programa debe proporcionar pistas al usuario si el número es mayor o\n",
        "#menor que el número objetivo, y seguir\n",
        "#solicitando un nuevo intento hasta que el usuario adivine correctamente.\n",
        "import random\n",
        "def juego_adivinar_numero():\n",
        "    numero_objetivo = random.randint(1, 100)\n",
        "\n",
        "    intentos = 0\n",
        "\n",
        "    while True:\n",
        "        intento = int(input(\"Adivina en que número estoy pensando, es uno entre 1 y 100: \"))\n",
        "        intentos += 1\n",
        "\n",
        "        if intento == numero_objetivo:\n",
        "            print(\"¡Felicidades! Si supiste que era {} en {} intentos.\".format(numero_objetivo, intentos))\n",
        "            break\n",
        "        elif intento < numero_objetivo:\n",
        "            print(\"El número es mayor. Intenta de nuevo.\")\n",
        "        else:\n",
        "            print(\"El número es menor. Intenta de nuevo.\")\n",
        "\n",
        "juego_adivinar_numero()"
      ],
      "metadata": {
        "colab": {
          "base_uri": "https://localhost:8080/"
        },
        "id": "nwW_lRK8iaqE",
        "outputId": "130e0f3b-7f66-4cdd-bc71-fd1428d50463"
      },
      "execution_count": null,
      "outputs": [
        {
          "output_type": "stream",
          "name": "stdout",
          "text": [
            "Adivina en que número estoy pensando, es uno entre 1 y 100: 8\n",
            "El número es mayor. Intenta de nuevo.\n",
            "Adivina en que número estoy pensando, es uno entre 1 y 100: 80\n",
            "El número es menor. Intenta de nuevo.\n",
            "Adivina en que número estoy pensando, es uno entre 1 y 100: 70\n",
            "El número es menor. Intenta de nuevo.\n",
            "Adivina en que número estoy pensando, es uno entre 1 y 100: 60\n",
            "El número es menor. Intenta de nuevo.\n",
            "Adivina en que número estoy pensando, es uno entre 1 y 100: 50\n",
            "El número es menor. Intenta de nuevo.\n",
            "Adivina en que número estoy pensando, es uno entre 1 y 100: 40\n",
            "El número es menor. Intenta de nuevo.\n",
            "Adivina en que número estoy pensando, es uno entre 1 y 100: 30\n",
            "El número es menor. Intenta de nuevo.\n",
            "Adivina en que número estoy pensando, es uno entre 1 y 100: 20\n",
            "El número es menor. Intenta de nuevo.\n",
            "Adivina en que número estoy pensando, es uno entre 1 y 100: 10\n",
            "El número es mayor. Intenta de nuevo.\n",
            "Adivina en que número estoy pensando, es uno entre 1 y 100: 15\n",
            "El número es menor. Intenta de nuevo.\n",
            "Adivina en que número estoy pensando, es uno entre 1 y 100: 14\n",
            "El número es menor. Intenta de nuevo.\n",
            "Adivina en que número estoy pensando, es uno entre 1 y 100: 13\n",
            "El número es menor. Intenta de nuevo.\n",
            "Adivina en que número estoy pensando, es uno entre 1 y 100: 12\n",
            "El número es menor. Intenta de nuevo.\n",
            "Adivina en que número estoy pensando, es uno entre 1 y 100: 11\n",
            "¡Felicidades! Adivinaste el número 11 en 14 intentos.\n"
          ]
        }
      ]
    },
    {
      "cell_type": "code",
      "source": [
        "#Ejercicio de cálculo de números primos en un rango dado:\n",
        "#Escribe un programa que solicite al usuario un rango de números y\n",
        "#muestre todos los números primos dentro de ese rango.\n",
        "\n",
        "def es_primo(numero):\n",
        "    return numero > 1 and all(numero % i != 0 for i in range(2, int(numero**0.5) + 1))\n",
        "\n",
        "def numeros_primos_en_rango(inicio, fin):\n",
        "    return [num for num in range(inicio, fin + 1) if es_primo(num)]\n",
        "\n",
        "def main():\n",
        "    inicio = int(input(\"Ingrese el número de inicio del rango: \"))\n",
        "    fin = int(input(\"Ingrese el número final del rango: \"))\n",
        "    primos_en_rango = numeros_primos_en_rango(inicio, fin)\n",
        "    print(f\"Números primos en el rango de {inicio} a {fin}:\", primos_en_rango)\n",
        "main()"
      ],
      "metadata": {
        "colab": {
          "base_uri": "https://localhost:8080/"
        },
        "id": "hOd9NHahjl4f",
        "outputId": "ec9a1998-ab5d-4f62-d146-8e8ed1ea4e0f"
      },
      "execution_count": null,
      "outputs": [
        {
          "output_type": "stream",
          "name": "stdout",
          "text": [
            "Ingrese el número de inicio del rango: 3\n",
            "Ingrese el número final del rango: 9\n",
            "Números primos en el rango de 3 a 9: [3, 5, 7]\n"
          ]
        }
      ]
    },
    {
      "cell_type": "code",
      "source": [
        "#Ejercicio de implementación de una calculadora básica utilizando funciones:\n",
        "#Escribe un programa que solicite al usuario dos números y\n",
        "#realice operaciones básicas como suma, resta, multiplicación y división\n",
        "#utilizando funciones separadas para cada operación.\n",
        "def suma(a, b):\n",
        "    return a + b\n",
        "\n",
        "def resta(a, b):\n",
        "    return a - b\n",
        "\n",
        "def multiplicacion(a, b):\n",
        "    return a * b\n",
        "\n",
        "def division(a, b):\n",
        "    return a / b if b != 0 else \"No es posible dividir entre cero.\"\n",
        "\n",
        "num1 = float(input(\"Ingrese el primer número: \"))\n",
        "num2 = float(input(\"Ingrese el segundo número: \"))\n",
        "\n",
        "print(\"\\nSeleccione la operación:\")\n",
        "print(\"1. Suma\\n2. Resta\\n3. Multiplicación\\n4. División\")\n",
        "\n",
        "opcion = input(\"Ingrese el número de la operación deseada (1/2/3/4): \")\n",
        "\n",
        "if opcion in [\"1\", \"2\", \"3\", \"4\"]:\n",
        "    resultado = (suma, resta, multiplicacion, division)[int(opcion) - 1](num1, num2)\n",
        "    print(f\"\\nResultado: {resultado}\")\n",
        "else:\n",
        "    print(\"Opción no válida. Por favor, ingrese un número de operación válido.\")"
      ],
      "metadata": {
        "colab": {
          "base_uri": "https://localhost:8080/"
        },
        "id": "Fvo-GSkhPiFu",
        "outputId": "7a1b33a0-14d6-4b85-aa57-4f0d2190ef65"
      },
      "execution_count": null,
      "outputs": [
        {
          "output_type": "stream",
          "name": "stdout",
          "text": [
            "Ingrese el primer número: 6\n",
            "Ingrese el segundo número: 8\n",
            "\n",
            "Seleccione la operación:\n",
            "1. Suma\n",
            "2. Resta\n",
            "3. Multiplicación\n",
            "4. División\n",
            "Ingrese el número de la operación deseada (1/2/3/4): 4\n",
            "\n",
            "Resultado: 0.75\n"
          ]
        }
      ]
    }
  ]
}
